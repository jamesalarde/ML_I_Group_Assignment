{
 "cells": [
  {
   "cell_type": "code",
   "execution_count": 1,
   "metadata": {
    "executionInfo": {
     "elapsed": 12,
     "status": "ok",
     "timestamp": 1739177366561,
     "user": {
      "displayName": "Africa Bajils",
      "userId": "14940342808400923731"
     },
     "user_tz": -60
    },
    "id": "21IZG-Pgkc1B"
   },
   "outputs": [],
   "source": [
    "#Load all required libraries\n",
    "from sklearn.model_selection import train_test_split\n",
    "import pandas as pd\n",
    "import matplotlib.pyplot as plt\n",
    "import seaborn as sns\n",
    "import numpy as np\n",
    "from sklearn.preprocessing import MinMaxScaler\n",
    "from sklearn.preprocessing import StandardScaler\n",
    "from sklearn.metrics import classification_report, accuracy_score\n",
    "from sklearn.preprocessing import LabelEncoder\n",
    "from sklearn.model_selection import GridSearchCV\n",
    "from sklearn.linear_model import ElasticNet\n",
    "from sklearn.model_selection import cross_val_score\n",
    "import joblib\n",
    "import pickle\n",
    "from sklearn.linear_model import LogisticRegression\n",
    "\n"
   ]
  },
  {
   "cell_type": "code",
   "execution_count": 2,
   "metadata": {
    "executionInfo": {
     "elapsed": 3,
     "status": "ok",
     "timestamp": 1739177366566,
     "user": {
      "displayName": "Africa Bajils",
      "userId": "14940342808400923731"
     },
     "user_tz": -60
    },
    "id": "4G-yQR6BmWwC"
   },
   "outputs": [],
   "source": [
    "#Read the file\n",
    "df = pd.read_csv(\"diabetes.csv\")"
   ]
  },
  {
   "cell_type": "code",
   "execution_count": 3,
   "metadata": {
    "colab": {
     "base_uri": "https://localhost:8080/"
    },
    "executionInfo": {
     "elapsed": 10,
     "status": "ok",
     "timestamp": 1739177366574,
     "user": {
      "displayName": "Africa Bajils",
      "userId": "14940342808400923731"
     },
     "user_tz": -60
    },
    "id": "wnNPWfEJCXFE",
    "outputId": "0523bde2-c148-4b76-86b4-3e7db114bafb"
   },
   "outputs": [
    {
     "data": {
      "text/plain": [
       "0"
      ]
     },
     "execution_count": 3,
     "metadata": {},
     "output_type": "execute_result"
    }
   ],
   "source": [
    "#Here we are checking for duplicated values, and we have non\n",
    "df.duplicated().sum()"
   ]
  },
  {
   "cell_type": "code",
   "execution_count": 4,
   "metadata": {
    "executionInfo": {
     "elapsed": 2,
     "status": "ok",
     "timestamp": 1739177366576,
     "user": {
      "displayName": "Africa Bajils",
      "userId": "14940342808400923731"
     },
     "user_tz": -60
    },
    "id": "7gVMMupIqr86"
   },
   "outputs": [],
   "source": [
    "#we did this to have an identifier for our datapoints so we can later use it for Quality Assurance\n",
    "df.reset_index(inplace=True)"
   ]
  },
  {
   "cell_type": "markdown",
   "metadata": {
    "id": "8uePILApGRb-"
   },
   "source": [
    "Beginning of data preparation & cleaning\n",
    "- Dealing with Outliers\n",
    "- Performing Normalization to the selected feauters\n",
    "- Dealing with NA values\n",
    "- Dealing with data types"
   ]
  },
  {
   "cell_type": "code",
   "execution_count": 5,
   "metadata": {
    "colab": {
     "base_uri": "https://localhost:8080/",
     "height": 206
    },
    "executionInfo": {
     "elapsed": 28,
     "status": "ok",
     "timestamp": 1739177366818,
     "user": {
      "displayName": "Africa Bajils",
      "userId": "14940342808400923731"
     },
     "user_tz": -60
    },
    "id": "1cJKU_ahkc1J",
    "outputId": "52213f91-373c-4c38-c28a-0932a0163a10"
   },
   "outputs": [
    {
     "data": {
      "text/html": [
       "<div>\n",
       "<style scoped>\n",
       "    .dataframe tbody tr th:only-of-type {\n",
       "        vertical-align: middle;\n",
       "    }\n",
       "\n",
       "    .dataframe tbody tr th {\n",
       "        vertical-align: top;\n",
       "    }\n",
       "\n",
       "    .dataframe thead th {\n",
       "        text-align: right;\n",
       "    }\n",
       "</style>\n",
       "<table border=\"1\" class=\"dataframe\">\n",
       "  <thead>\n",
       "    <tr style=\"text-align: right;\">\n",
       "      <th></th>\n",
       "      <th>index</th>\n",
       "      <th>Pregnancies</th>\n",
       "      <th>Glucose</th>\n",
       "      <th>BloodPressure</th>\n",
       "      <th>SkinThickness</th>\n",
       "      <th>Insulin</th>\n",
       "      <th>BMI</th>\n",
       "      <th>DiabetesPedigreeFunction</th>\n",
       "      <th>Age</th>\n",
       "      <th>Outcome</th>\n",
       "    </tr>\n",
       "  </thead>\n",
       "  <tbody>\n",
       "    <tr>\n",
       "      <th>0</th>\n",
       "      <td>0</td>\n",
       "      <td>6</td>\n",
       "      <td>148</td>\n",
       "      <td>72</td>\n",
       "      <td>35</td>\n",
       "      <td>0</td>\n",
       "      <td>33.6</td>\n",
       "      <td>0.627</td>\n",
       "      <td>50</td>\n",
       "      <td>1</td>\n",
       "    </tr>\n",
       "    <tr>\n",
       "      <th>1</th>\n",
       "      <td>1</td>\n",
       "      <td>1</td>\n",
       "      <td>85</td>\n",
       "      <td>66</td>\n",
       "      <td>29</td>\n",
       "      <td>0</td>\n",
       "      <td>26.6</td>\n",
       "      <td>0.351</td>\n",
       "      <td>31</td>\n",
       "      <td>0</td>\n",
       "    </tr>\n",
       "    <tr>\n",
       "      <th>2</th>\n",
       "      <td>2</td>\n",
       "      <td>8</td>\n",
       "      <td>183</td>\n",
       "      <td>64</td>\n",
       "      <td>0</td>\n",
       "      <td>0</td>\n",
       "      <td>23.3</td>\n",
       "      <td>0.672</td>\n",
       "      <td>32</td>\n",
       "      <td>1</td>\n",
       "    </tr>\n",
       "    <tr>\n",
       "      <th>3</th>\n",
       "      <td>3</td>\n",
       "      <td>1</td>\n",
       "      <td>89</td>\n",
       "      <td>66</td>\n",
       "      <td>23</td>\n",
       "      <td>94</td>\n",
       "      <td>28.1</td>\n",
       "      <td>0.167</td>\n",
       "      <td>21</td>\n",
       "      <td>0</td>\n",
       "    </tr>\n",
       "    <tr>\n",
       "      <th>4</th>\n",
       "      <td>4</td>\n",
       "      <td>0</td>\n",
       "      <td>137</td>\n",
       "      <td>40</td>\n",
       "      <td>35</td>\n",
       "      <td>168</td>\n",
       "      <td>43.1</td>\n",
       "      <td>2.288</td>\n",
       "      <td>33</td>\n",
       "      <td>1</td>\n",
       "    </tr>\n",
       "  </tbody>\n",
       "</table>\n",
       "</div>"
      ],
      "text/plain": [
       "   index  Pregnancies  Glucose  BloodPressure  SkinThickness  Insulin   BMI  \\\n",
       "0      0            6      148             72             35        0  33.6   \n",
       "1      1            1       85             66             29        0  26.6   \n",
       "2      2            8      183             64              0        0  23.3   \n",
       "3      3            1       89             66             23       94  28.1   \n",
       "4      4            0      137             40             35      168  43.1   \n",
       "\n",
       "   DiabetesPedigreeFunction  Age  Outcome  \n",
       "0                     0.627   50        1  \n",
       "1                     0.351   31        0  \n",
       "2                     0.672   32        1  \n",
       "3                     0.167   21        0  \n",
       "4                     2.288   33        1  "
      ]
     },
     "execution_count": 5,
     "metadata": {},
     "output_type": "execute_result"
    }
   ],
   "source": [
    "df.head()"
   ]
  },
  {
   "cell_type": "code",
   "execution_count": 6,
   "metadata": {
    "colab": {
     "base_uri": "https://localhost:8080/"
    },
    "executionInfo": {
     "elapsed": 58,
     "status": "ok",
     "timestamp": 1739177366878,
     "user": {
      "displayName": "Africa Bajils",
      "userId": "14940342808400923731"
     },
     "user_tz": -60
    },
    "id": "t45glzVwkc1L",
    "outputId": "c6c734dd-6574-49a1-b69e-d9340d44d950"
   },
   "outputs": [
    {
     "name": "stdout",
     "output_type": "stream",
     "text": [
      "<class 'pandas.core.frame.DataFrame'>\n",
      "RangeIndex: 768 entries, 0 to 767\n",
      "Data columns (total 10 columns):\n",
      " #   Column                    Non-Null Count  Dtype  \n",
      "---  ------                    --------------  -----  \n",
      " 0   index                     768 non-null    int64  \n",
      " 1   Pregnancies               768 non-null    int64  \n",
      " 2   Glucose                   768 non-null    int64  \n",
      " 3   BloodPressure             768 non-null    int64  \n",
      " 4   SkinThickness             768 non-null    int64  \n",
      " 5   Insulin                   768 non-null    int64  \n",
      " 6   BMI                       768 non-null    float64\n",
      " 7   DiabetesPedigreeFunction  768 non-null    float64\n",
      " 8   Age                       768 non-null    int64  \n",
      " 9   Outcome                   768 non-null    int64  \n",
      "dtypes: float64(2), int64(8)\n",
      "memory usage: 60.1 KB\n"
     ]
    }
   ],
   "source": [
    "df.info()"
   ]
  },
  {
   "cell_type": "code",
   "execution_count": 7,
   "metadata": {
    "colab": {
     "base_uri": "https://localhost:8080/",
     "height": 383
    },
    "executionInfo": {
     "elapsed": 88,
     "status": "ok",
     "timestamp": 1739177366967,
     "user": {
      "displayName": "Africa Bajils",
      "userId": "14940342808400923731"
     },
     "user_tz": -60
    },
    "id": "nov4Y1YlkvNX",
    "outputId": "5e8ae472-75d9-4629-8a8c-759ea1e837a2"
   },
   "outputs": [
    {
     "data": {
      "text/html": [
       "<div>\n",
       "<style scoped>\n",
       "    .dataframe tbody tr th:only-of-type {\n",
       "        vertical-align: middle;\n",
       "    }\n",
       "\n",
       "    .dataframe tbody tr th {\n",
       "        vertical-align: top;\n",
       "    }\n",
       "\n",
       "    .dataframe thead th {\n",
       "        text-align: right;\n",
       "    }\n",
       "</style>\n",
       "<table border=\"1\" class=\"dataframe\">\n",
       "  <thead>\n",
       "    <tr style=\"text-align: right;\">\n",
       "      <th></th>\n",
       "      <th>Pregnancies</th>\n",
       "      <th>Glucose</th>\n",
       "      <th>BloodPressure</th>\n",
       "      <th>SkinThickness</th>\n",
       "      <th>Insulin</th>\n",
       "      <th>BMI</th>\n",
       "      <th>DiabetesPedigreeFunction</th>\n",
       "      <th>Age</th>\n",
       "      <th>Outcome</th>\n",
       "    </tr>\n",
       "  </thead>\n",
       "  <tbody>\n",
       "    <tr>\n",
       "      <th>Pregnancies</th>\n",
       "      <td>1.000000</td>\n",
       "      <td>0.129459</td>\n",
       "      <td>0.141282</td>\n",
       "      <td>-0.081672</td>\n",
       "      <td>-0.073535</td>\n",
       "      <td>0.017683</td>\n",
       "      <td>-0.033523</td>\n",
       "      <td>0.544341</td>\n",
       "      <td>0.221898</td>\n",
       "    </tr>\n",
       "    <tr>\n",
       "      <th>Glucose</th>\n",
       "      <td>0.129459</td>\n",
       "      <td>1.000000</td>\n",
       "      <td>0.152590</td>\n",
       "      <td>0.057328</td>\n",
       "      <td>0.331357</td>\n",
       "      <td>0.221071</td>\n",
       "      <td>0.137337</td>\n",
       "      <td>0.263514</td>\n",
       "      <td>0.466581</td>\n",
       "    </tr>\n",
       "    <tr>\n",
       "      <th>BloodPressure</th>\n",
       "      <td>0.141282</td>\n",
       "      <td>0.152590</td>\n",
       "      <td>1.000000</td>\n",
       "      <td>0.207371</td>\n",
       "      <td>0.088933</td>\n",
       "      <td>0.281805</td>\n",
       "      <td>0.041265</td>\n",
       "      <td>0.239528</td>\n",
       "      <td>0.065068</td>\n",
       "    </tr>\n",
       "    <tr>\n",
       "      <th>SkinThickness</th>\n",
       "      <td>-0.081672</td>\n",
       "      <td>0.057328</td>\n",
       "      <td>0.207371</td>\n",
       "      <td>1.000000</td>\n",
       "      <td>0.436783</td>\n",
       "      <td>0.392573</td>\n",
       "      <td>0.183928</td>\n",
       "      <td>-0.113970</td>\n",
       "      <td>0.074752</td>\n",
       "    </tr>\n",
       "    <tr>\n",
       "      <th>Insulin</th>\n",
       "      <td>-0.073535</td>\n",
       "      <td>0.331357</td>\n",
       "      <td>0.088933</td>\n",
       "      <td>0.436783</td>\n",
       "      <td>1.000000</td>\n",
       "      <td>0.197859</td>\n",
       "      <td>0.185071</td>\n",
       "      <td>-0.042163</td>\n",
       "      <td>0.130548</td>\n",
       "    </tr>\n",
       "    <tr>\n",
       "      <th>BMI</th>\n",
       "      <td>0.017683</td>\n",
       "      <td>0.221071</td>\n",
       "      <td>0.281805</td>\n",
       "      <td>0.392573</td>\n",
       "      <td>0.197859</td>\n",
       "      <td>1.000000</td>\n",
       "      <td>0.140647</td>\n",
       "      <td>0.036242</td>\n",
       "      <td>0.292695</td>\n",
       "    </tr>\n",
       "    <tr>\n",
       "      <th>DiabetesPedigreeFunction</th>\n",
       "      <td>-0.033523</td>\n",
       "      <td>0.137337</td>\n",
       "      <td>0.041265</td>\n",
       "      <td>0.183928</td>\n",
       "      <td>0.185071</td>\n",
       "      <td>0.140647</td>\n",
       "      <td>1.000000</td>\n",
       "      <td>0.033561</td>\n",
       "      <td>0.173844</td>\n",
       "    </tr>\n",
       "    <tr>\n",
       "      <th>Age</th>\n",
       "      <td>0.544341</td>\n",
       "      <td>0.263514</td>\n",
       "      <td>0.239528</td>\n",
       "      <td>-0.113970</td>\n",
       "      <td>-0.042163</td>\n",
       "      <td>0.036242</td>\n",
       "      <td>0.033561</td>\n",
       "      <td>1.000000</td>\n",
       "      <td>0.238356</td>\n",
       "    </tr>\n",
       "    <tr>\n",
       "      <th>Outcome</th>\n",
       "      <td>0.221898</td>\n",
       "      <td>0.466581</td>\n",
       "      <td>0.065068</td>\n",
       "      <td>0.074752</td>\n",
       "      <td>0.130548</td>\n",
       "      <td>0.292695</td>\n",
       "      <td>0.173844</td>\n",
       "      <td>0.238356</td>\n",
       "      <td>1.000000</td>\n",
       "    </tr>\n",
       "  </tbody>\n",
       "</table>\n",
       "</div>"
      ],
      "text/plain": [
       "                          Pregnancies   Glucose  BloodPressure  SkinThickness  \\\n",
       "Pregnancies                  1.000000  0.129459       0.141282      -0.081672   \n",
       "Glucose                      0.129459  1.000000       0.152590       0.057328   \n",
       "BloodPressure                0.141282  0.152590       1.000000       0.207371   \n",
       "SkinThickness               -0.081672  0.057328       0.207371       1.000000   \n",
       "Insulin                     -0.073535  0.331357       0.088933       0.436783   \n",
       "BMI                          0.017683  0.221071       0.281805       0.392573   \n",
       "DiabetesPedigreeFunction    -0.033523  0.137337       0.041265       0.183928   \n",
       "Age                          0.544341  0.263514       0.239528      -0.113970   \n",
       "Outcome                      0.221898  0.466581       0.065068       0.074752   \n",
       "\n",
       "                           Insulin       BMI  DiabetesPedigreeFunction  \\\n",
       "Pregnancies              -0.073535  0.017683                 -0.033523   \n",
       "Glucose                   0.331357  0.221071                  0.137337   \n",
       "BloodPressure             0.088933  0.281805                  0.041265   \n",
       "SkinThickness             0.436783  0.392573                  0.183928   \n",
       "Insulin                   1.000000  0.197859                  0.185071   \n",
       "BMI                       0.197859  1.000000                  0.140647   \n",
       "DiabetesPedigreeFunction  0.185071  0.140647                  1.000000   \n",
       "Age                      -0.042163  0.036242                  0.033561   \n",
       "Outcome                   0.130548  0.292695                  0.173844   \n",
       "\n",
       "                               Age   Outcome  \n",
       "Pregnancies               0.544341  0.221898  \n",
       "Glucose                   0.263514  0.466581  \n",
       "BloodPressure             0.239528  0.065068  \n",
       "SkinThickness            -0.113970  0.074752  \n",
       "Insulin                  -0.042163  0.130548  \n",
       "BMI                       0.036242  0.292695  \n",
       "DiabetesPedigreeFunction  0.033561  0.173844  \n",
       "Age                       1.000000  0.238356  \n",
       "Outcome                   0.238356  1.000000  "
      ]
     },
     "execution_count": 7,
     "metadata": {},
     "output_type": "execute_result"
    }
   ],
   "source": [
    "#correlation of dataset\n",
    "corr_data= df[['Pregnancies', 'Glucose', 'BloodPressure', 'SkinThickness',\n",
    "       'Insulin', 'BMI', 'DiabetesPedigreeFunction', 'Age', 'Outcome']].corr()\n",
    "corr_data"
   ]
  },
  {
   "cell_type": "code",
   "execution_count": 8,
   "metadata": {
    "colab": {
     "base_uri": "https://localhost:8080/",
     "height": 397
    },
    "executionInfo": {
     "elapsed": 60,
     "status": "ok",
     "timestamp": 1739177367029,
     "user": {
      "displayName": "Africa Bajils",
      "userId": "14940342808400923731"
     },
     "user_tz": -60
    },
    "id": "X7c7Kqr54H-m",
    "outputId": "4aa62c71-ea27-43a1-8311-1e76f6a01430"
   },
   "outputs": [
    {
     "data": {
      "text/plain": [
       "index                       0\n",
       "Pregnancies                 0\n",
       "Glucose                     0\n",
       "BloodPressure               0\n",
       "SkinThickness               0\n",
       "Insulin                     0\n",
       "BMI                         0\n",
       "DiabetesPedigreeFunction    0\n",
       "Age                         0\n",
       "Outcome                     0\n",
       "dtype: int64"
      ]
     },
     "execution_count": 8,
     "metadata": {},
     "output_type": "execute_result"
    }
   ],
   "source": [
    " #Checking missing values\n",
    "df.isna().sum()"
   ]
  },
  {
   "cell_type": "markdown",
   "metadata": {
    "id": "1O_YZ1HfCXFL"
   },
   "source": [
    "##\n",
    "We will write here some reserach that justify why we are including the outliers\n",
    "##"
   ]
  },
  {
   "cell_type": "code",
   "execution_count": 9,
   "metadata": {
    "colab": {
     "base_uri": "https://localhost:8080/",
     "height": 335
    },
    "executionInfo": {
     "elapsed": 95,
     "status": "ok",
     "timestamp": 1739177367140,
     "user": {
      "displayName": "Africa Bajils",
      "userId": "14940342808400923731"
     },
     "user_tz": -60
    },
    "id": "TN4shSZe4z5G",
    "outputId": "10577e63-7d9e-44bc-d7fe-ef3688a74b66"
   },
   "outputs": [
    {
     "data": {
      "text/html": [
       "<div>\n",
       "<style scoped>\n",
       "    .dataframe tbody tr th:only-of-type {\n",
       "        vertical-align: middle;\n",
       "    }\n",
       "\n",
       "    .dataframe tbody tr th {\n",
       "        vertical-align: top;\n",
       "    }\n",
       "\n",
       "    .dataframe thead th {\n",
       "        text-align: right;\n",
       "    }\n",
       "</style>\n",
       "<table border=\"1\" class=\"dataframe\">\n",
       "  <thead>\n",
       "    <tr style=\"text-align: right;\">\n",
       "      <th></th>\n",
       "      <th>Variable</th>\n",
       "      <th>Outlier Count</th>\n",
       "    </tr>\n",
       "  </thead>\n",
       "  <tbody>\n",
       "    <tr>\n",
       "      <th>0</th>\n",
       "      <td>Pregnancies</td>\n",
       "      <td>1</td>\n",
       "    </tr>\n",
       "    <tr>\n",
       "      <th>1</th>\n",
       "      <td>Glucose</td>\n",
       "      <td>5</td>\n",
       "    </tr>\n",
       "    <tr>\n",
       "      <th>2</th>\n",
       "      <td>BloodPressure</td>\n",
       "      <td>36</td>\n",
       "    </tr>\n",
       "    <tr>\n",
       "      <th>3</th>\n",
       "      <td>SkinThickness</td>\n",
       "      <td>0</td>\n",
       "    </tr>\n",
       "    <tr>\n",
       "      <th>4</th>\n",
       "      <td>Insulin</td>\n",
       "      <td>37</td>\n",
       "    </tr>\n",
       "    <tr>\n",
       "      <th>5</th>\n",
       "      <td>BMI</td>\n",
       "      <td>11</td>\n",
       "    </tr>\n",
       "    <tr>\n",
       "      <th>6</th>\n",
       "      <td>Age</td>\n",
       "      <td>0</td>\n",
       "    </tr>\n",
       "  </tbody>\n",
       "</table>\n",
       "</div>"
      ],
      "text/plain": [
       "        Variable  Outlier Count\n",
       "0    Pregnancies              1\n",
       "1        Glucose              5\n",
       "2  BloodPressure             36\n",
       "3  SkinThickness              0\n",
       "4        Insulin             37\n",
       "5            BMI             11\n",
       "6            Age              0"
      ]
     },
     "execution_count": 9,
     "metadata": {},
     "output_type": "execute_result"
    }
   ],
   "source": [
    "# Count the number of outliers for each variable\n",
    "outlier_counts = {\n",
    "    \"Pregnancies\": ((df[\"Pregnancies\"] < 0) | (df[\"Pregnancies\"] > 15)).sum(),\n",
    "    \"Glucose\": ((df[\"Glucose\"] < 40) | (df[\"Glucose\"] > 600)).sum(),\n",
    "    \"BloodPressure\": ((df[\"BloodPressure\"] < 30) | (df[\"BloodPressure\"] > 200)).sum(),\n",
    "    \"SkinThickness\": ((df[\"SkinThickness\"] < 0) | (df[\"SkinThickness\"] > 100)).sum(),\n",
    "    \"Insulin\": ((df[\"Insulin\"] <0) | (df[\"Insulin\"] > 300)).sum(),\n",
    "    \"BMI\": ((df[\"BMI\"] < 12) | (df[\"BMI\"] > 100)).sum(),\n",
    "    \"Age\": ((df[\"Age\"] < 0) | (df[\"Age\"] > 100)).sum()\n",
    "}\n",
    "\n",
    "# Convert to DataFrame for better visualization\n",
    "outlier_summary = pd.DataFrame(list(outlier_counts.items()), columns=[\"Variable\", \"Outlier Count\"])\n",
    "outlier_summary\n"
   ]
  },
  {
   "cell_type": "code",
   "execution_count": 10,
   "metadata": {},
   "outputs": [
    {
     "data": {
      "image/png": "[encoded data removed]",
      "text/plain": [
       "<Figure size 1200x600 with 1 Axes>"
      ]
     },
     "metadata": {},
     "output_type": "display_data"
    }
   ],
   "source": [
    "\n",
    "\n",
    "# Define valid ranges based on your criteria\n",
    "valid_ranges = {\n",
    "    \"Pregnancies\": (0, 15),\n",
    "    \"Glucose\": (40, 600),\n",
    "    \"BloodPressure\": (30, 200),\n",
    "    \"SkinThickness\": (5, 100),\n",
    "    \"Insulin\": (2, 300),\n",
    "    \"BMI\": (12, 100),\n",
    "    \"Age\": (0, 100),\n",
    "}\n",
    "\n",
    "# Create a copy of the dataset for filtering\n",
    "df_filtered = df.copy()\n",
    "\n",
    "# Remove outliers based on the given thresholds\n",
    "for col, (low, high) in valid_ranges.items():\n",
    "    df_filtered = df_filtered[(df_filtered[col] >= low) & (df_filtered[col] <= high)]\n",
    "\n",
    "# Select only the relevant columns for plotting\n",
    "columns_to_plot = list(valid_ranges.keys())\n",
    "\n",
    "# Plot boxplots with only the selected columns\n",
    "plt.figure(figsize=(12, 6))\n",
    "sns.boxplot(data=df_filtered[columns_to_plot], orient=\"h\", palette=\"Set2\")\n",
    "plt.xticks(rotation=45)\n",
    "plt.title(\"Boxplot of Selected Variables (Outliers Removed)\")\n",
    "plt.show()\n"
   ]
  },
  {
   "cell_type": "code",
   "execution_count": 11,
   "metadata": {
    "executionInfo": {
     "elapsed": 5,
     "status": "ok",
     "timestamp": 1739177368827,
     "user": {
      "displayName": "Africa Bajils",
      "userId": "14940342808400923731"
     },
     "user_tz": -60
    },
    "id": "5ddUpkfmk5CE"
   },
   "outputs": [],
   "source": [
    "# correlation of all columns with  target 'Outcome'\n",
    "medv_corr = df.corr()['Outcome']"
   ]
  },
  {
   "cell_type": "code",
   "execution_count": 12,
   "metadata": {
    "colab": {
     "base_uri": "https://localhost:8080/",
     "height": 866
    },
    "executionInfo": {
     "elapsed": 1298,
     "status": "ok",
     "timestamp": 1739177370126,
     "user": {
      "displayName": "Africa Bajils",
      "userId": "14940342808400923731"
     },
     "user_tz": -60
    },
    "id": "DFG8_Kc-k8Ym",
    "outputId": "9b29835d-a7f2-47d4-f989-dc863dfe6749"
   },
   "outputs": [
    {
     "data": {
      "image/png": "[encoded data removed]",
      "text/plain": [
       "<Figure size 1200x800 with 2 Axes>"
      ]
     },
     "metadata": {},
     "output_type": "display_data"
    }
   ],
   "source": [
    "# Plot correlation matrix\n",
    "plt.figure(figsize=(12, 8))\n",
    "sns.heatmap(corr_data, annot=True, cmap='Greens', fmt='.1f')\n",
    "plt.title('Correlation Matrix')\n",
    "plt.show()"
   ]
  },
  {
   "cell_type": "code",
   "execution_count": 13,
   "metadata": {
    "colab": {
     "base_uri": "https://localhost:8080/"
    },
    "executionInfo": {
     "elapsed": 12,
     "status": "ok",
     "timestamp": 1739177370141,
     "user": {
      "displayName": "Africa Bajils",
      "userId": "14940342808400923731"
     },
     "user_tz": -60
    },
    "id": "et93oIlVCXFN",
    "outputId": "21674dd3-a95b-4992-a6f2-890f8bfad4e4"
   },
   "outputs": [
    {
     "data": {
      "text/plain": [
       "Index(['index', 'Pregnancies', 'Glucose', 'BloodPressure', 'SkinThickness',\n",
       "       'Insulin', 'BMI', 'DiabetesPedigreeFunction', 'Age', 'Outcome'],\n",
       "      dtype='object')"
      ]
     },
     "execution_count": 13,
     "metadata": {},
     "output_type": "execute_result"
    }
   ],
   "source": [
    "df.columns"
   ]
  },
  {
   "cell_type": "code",
   "execution_count": 14,
   "metadata": {
    "executionInfo": {
     "elapsed": 2,
     "status": "ok",
     "timestamp": 1739177370144,
     "user": {
      "displayName": "Africa Bajils",
      "userId": "14940342808400923731"
     },
     "user_tz": -60
    },
    "id": "gGMWueCtkc1M"
   },
   "outputs": [],
   "source": [
    "# This won't be important because we want to retain our model in a loop with different seeds,\n",
    "# and with each iteration, we will be splitting, noramlizing, and then train our model.\n",
    "# Define features and target\n",
    "X = df.drop(columns=[\"Outcome\",\"index\"])\n",
    "y = df[\"Outcome\"]\n"
   ]
  },
  {
   "cell_type": "code",
   "execution_count": 15,
   "metadata": {
    "colab": {
     "base_uri": "https://localhost:8080/"
    },
    "executionInfo": {
     "elapsed": 9,
     "status": "ok",
     "timestamp": 1739177370154,
     "user": {
      "displayName": "Africa Bajils",
      "userId": "14940342808400923731"
     },
     "user_tz": -60
    },
    "id": "97BmygSCGRcC",
    "outputId": "d7e4ff79-5eb4-46e7-d615-199265b5a466"
   },
   "outputs": [
    {
     "data": {
      "text/plain": [
       "Index(['Pregnancies', 'Glucose', 'BloodPressure', 'SkinThickness', 'Insulin',\n",
       "       'BMI', 'DiabetesPedigreeFunction', 'Age'],\n",
       "      dtype='object')"
      ]
     },
     "execution_count": 15,
     "metadata": {},
     "output_type": "execute_result"
    }
   ],
   "source": [
    "X.columns"
   ]
  },
  {
   "cell_type": "code",
   "execution_count": 16,
   "metadata": {
    "colab": {
     "base_uri": "https://localhost:8080/"
    },
    "executionInfo": {
     "elapsed": 9,
     "status": "ok",
     "timestamp": 1739177370179,
     "user": {
      "displayName": "Africa Bajils",
      "userId": "14940342808400923731"
     },
     "user_tz": -60
    },
    "id": "DwNy-IGnGRcC",
    "outputId": "90c574c4-2b43-45bf-9738-d80322ff2e18"
   },
   "outputs": [
    {
     "data": {
      "text/plain": [
       "array([1, 0], dtype=int64)"
      ]
     },
     "execution_count": 16,
     "metadata": {},
     "output_type": "execute_result"
    }
   ],
   "source": [
    "#making sure that the selected target only have 1 or 0 valeus\n",
    "df['Outcome'].unique()"
   ]
  },
  {
   "cell_type": "code",
   "execution_count": 17,
   "metadata": {
    "colab": {
     "base_uri": "https://localhost:8080/",
     "height": 472
    },
    "executionInfo": {
     "elapsed": 92,
     "status": "ok",
     "timestamp": 1739177370272,
     "user": {
      "displayName": "Africa Bajils",
      "userId": "14940342808400923731"
     },
     "user_tz": -60
    },
    "id": "fcSfDd_9CXFO",
    "outputId": "c67d2254-f716-48e4-9240-931c0a507d76"
   },
   "outputs": [
    {
     "data": {
      "image/png": "[encoded data removed]",
      "text/plain": [
       "<Figure size 640x480 with 1 Axes>"
      ]
     },
     "metadata": {},
     "output_type": "display_data"
    }
   ],
   "source": [
    "#visulaize the outcome data making sure we don't have biased data set\n",
    "#This shows that we have almost double the data with no diabes in comparison to people with diabetes\n",
    "\n",
    "sns.barplot(x=df['Outcome'].value_counts().index,\n",
    "            y=df['Outcome'].value_counts().values)\n",
    "plt.xlabel(\"Outcome (0 = No Diabetes, 1 = Diabetes)\")\n",
    "plt.ylabel(\"Count\")\n",
    "plt.title(\"Distribution of Diabetes Outcome\")\n",
    "plt.show()"
   ]
  },
  {
   "cell_type": "markdown",
   "metadata": {
    "id": "KvWKxhgMGRcD"
   },
   "source": [
    "In this section we are doing the following in a pythonic way:\n",
    "- Split the data within the model because we are going to have different splits with different seeds\n",
    "- Select the seeds that will produce better performance\n",
    "- Compare three main reading for our model accuracy performance (testing data, training data, overall data)\n",
    "- After compelting that, we are revisiting our feauters using GridSearch and decide what to do with less important feauters\n",
    "- Retrain the model with new selected feauters and compare overall performance\n"
   ]
  },
  {
   "cell_type": "markdown",
   "metadata": {
    "id": "OllDrGl9GRcD"
   },
   "source": [
    "Here we are using importance to detect what feauters out of the selected ones are important and what are not"
   ]
  },
  {
   "cell_type": "markdown",
   "metadata": {
    "id": "PJYvXloQGRcD"
   },
   "source": [
    "In this section we are applying cross validation, and for both scenarios our cross-validation accuracy rate was below the original. what is the best practice here?"
   ]
  },
  {
   "cell_type": "markdown",
   "metadata": {
    "id": "Mn7IJ805GRcD"
   },
   "source": [
    "Because we see that the RandomClassifier had the best performance we will save it and use it for prediction"
   ]
  },
  {
   "cell_type": "code",
   "execution_count": 18,
   "metadata": {
    "colab": {
     "base_uri": "https://localhost:8080/"
    },
    "executionInfo": {
     "elapsed": 8,
     "status": "ok",
     "timestamp": 1739177370282,
     "user": {
      "displayName": "Africa Bajils",
      "userId": "14940342808400923731"
     },
     "user_tz": -60
    },
    "id": "khZDDZU9GRcD",
    "outputId": "723c8e42-bcc4-4538-8eb3-4d46cfe8bafc"
   },
   "outputs": [
    {
     "data": {
      "text/plain": [
       "Index(['Pregnancies', 'Glucose', 'BloodPressure', 'SkinThickness', 'Insulin',\n",
       "       'BMI', 'DiabetesPedigreeFunction', 'Age'],\n",
       "      dtype='object')"
      ]
     },
     "execution_count": 18,
     "metadata": {},
     "output_type": "execute_result"
    }
   ],
   "source": [
    "X.columns"
   ]
  },
  {
   "cell_type": "markdown",
   "metadata": {
    "id": "6XOtAj-GGRcD"
   },
   "source": [
    "In this section, we are trying to implement LogisticRegression classifier and trying to experiement with different train/test splits and compare the outcomes to average of cross validation (bigger varriance = less reliable model)"
   ]
  },
  {
   "cell_type": "code",
   "execution_count": 19,
   "metadata": {
    "colab": {
     "base_uri": "https://localhost:8080/"
    },
    "executionInfo": {
     "elapsed": 226,
     "status": "ok",
     "timestamp": 1739177370511,
     "user": {
      "displayName": "Africa Bajils",
      "userId": "14940342808400923731"
     },
     "user_tz": -60
    },
    "id": "tTosoOVMGRcD",
    "outputId": "f0b832eb-709c-465b-a4fc-baa6c41b617c"
   },
   "outputs": [
    {
     "name": "stdout",
     "output_type": "stream",
     "text": [
      "Highest Accuracy was with seed 1001\n",
      "Accuracy Rate = 0.8376623376623377\n",
      "              precision    recall  f1-score   support\n",
      "\n",
      "Non Diabetic       0.82      0.96      0.89       101\n",
      "    Diabetic       0.89      0.60      0.72        53\n",
      "\n",
      "    accuracy                           0.84       154\n",
      "   macro avg       0.86      0.78      0.80       154\n",
      "weighted avg       0.85      0.84      0.83       154\n",
      "\n"
     ]
    }
   ],
   "source": [
    "Highest_Accuracy = 0\n",
    "Best_Seed = 0\n",
    "\n",
    "# List of seeds to explore\n",
    "seeds = [90, 95, 100, 242, 1500, 1001, 2023, 2000, 2003, 102, 2001, 2006]\n",
    "\n",
    "# Features to normalize\n",
    "columns_to_scale = ['Pregnancies','Glucose','BloodPressure','SkinThickness','Insulin','BMI','DiabetesPedigreeFunction','Age']\n",
    "\n",
    "for seed in seeds:\n",
    "    # Splitting the data\n",
    "    X_train, X_test, y_train, y_test = train_test_split(X, y, test_size=0.2, random_state=seed)\n",
    "\n",
    "    # Initialize and fit the scaler on X_train only\n",
    "    scaler = MinMaxScaler()\n",
    "    scaler.fit(X_train[columns_to_scale])\n",
    "\n",
    "    # Transform X_train and X_test using the fitted scaler\n",
    "    X_train_scaled = X_train  # Avoid modifying the original DataFrame\n",
    "    X_test_scaled = X_test\n",
    "\n",
    "    X_train_scaled[columns_to_scale] = scaler.transform(X_train[columns_to_scale])\n",
    "    X_test_scaled[columns_to_scale] = scaler.transform(X_test[columns_to_scale])\n",
    "\n",
    "    # Train the Logistic Regression model\n",
    "    LogisticRegressionmodel = LogisticRegression(random_state=seed)\n",
    "    LogisticRegressionmodel.fit(X_train_scaled, y_train)\n",
    "\n",
    "    # Make predictions on the correctly normalized X_test\n",
    "    y_pred = LogisticRegressionmodel.predict(X_test_scaled)\n",
    "    current_accuracy = accuracy_score(y_test, y_pred)\n",
    "\n",
    "    # Store the best-performing model\n",
    "    if current_accuracy > Highest_Accuracy:\n",
    "        Best_Model = LogisticRegression(random_state=seed)\n",
    "        Highest_Accuracy = current_accuracy\n",
    "        Best_Seed = seed\n",
    "        Best_y_pred = y_pred\n",
    "        Best_y_test = y_test\n",
    "      \n",
    "\n",
    "# Print the best model accuracy and classification report\n",
    "print(f'Highest Accuracy was with seed {Best_Seed}\\nAccuracy Rate = {Highest_Accuracy}')\n",
    "print(classification_report(Best_y_test, Best_y_pred, target_names=['Non Diabetic', 'Diabetic']))\n"
   ]
  },
  {
   "cell_type": "code",
   "execution_count": 20,
   "metadata": {
    "colab": {
     "base_uri": "https://localhost:8080/"
    },
    "executionInfo": {
     "elapsed": 5611,
     "status": "ok",
     "timestamp": 1739177376124,
     "user": {
      "displayName": "Africa Bajils",
      "userId": "14940342808400923731"
     },
     "user_tz": -60
    },
    "id": "vnABoot3CXFQ",
    "outputId": "d1419db4-1bf5-4f2a-9ffc-5f81e5a6b0f7"
   },
   "outputs": [
    {
     "name": "stdout",
     "output_type": "stream",
     "text": [
      "Fitting 5 folds for each of 12 candidates, totalling 60 fits\n",
      "Fitting 5 folds for each of 12 candidates, totalling 60 fits\n",
      "Fitting 5 folds for each of 12 candidates, totalling 60 fits\n",
      "Fitting 5 folds for each of 12 candidates, totalling 60 fits\n",
      "Fitting 5 folds for each of 12 candidates, totalling 60 fits\n",
      "Fitting 5 folds for each of 12 candidates, totalling 60 fits\n",
      "Fitting 5 folds for each of 12 candidates, totalling 60 fits\n",
      "Fitting 5 folds for each of 12 candidates, totalling 60 fits\n",
      "Fitting 5 folds for each of 12 candidates, totalling 60 fits\n",
      "Fitting 5 folds for each of 12 candidates, totalling 60 fits\n",
      "Fitting 5 folds for each of 12 candidates, totalling 60 fits\n",
      "Fitting 5 folds for each of 12 candidates, totalling 60 fits\n",
      "Highest Accuracy was with seed 1001\n",
      "Accuracy Rate = 0.8246753246753247\n",
      "Best Hyperparameters: {'C': 1, 'penalty': 'l1', 'solver': 'liblinear'}\n",
      "              precision    recall  f1-score   support\n",
      "\n",
      "Non Diabetic       0.81      0.95      0.88       101\n",
      "    Diabetic       0.86      0.58      0.70        53\n",
      "\n",
      "    accuracy                           0.82       154\n",
      "   macro avg       0.84      0.77      0.79       154\n",
      "weighted avg       0.83      0.82      0.81       154\n",
      "\n"
     ]
    }
   ],
   "source": [
    "Highest_Accuracy = 0\n",
    "Best_Seed = 0\n",
    "Best_Params = {}\n",
    "\n",
    "# List of seeds to explore\n",
    "seeds = [90, 95, 100, 242, 1500, 1001, 2023, 2000, 2003, 102, 2001, 2006]\n",
    "\n",
    "# Features to normalize\n",
    "columns_to_scale = ['Pregnancies', 'Glucose', 'BloodPressure', 'SkinThickness',\n",
    "                    'Insulin', 'BMI', 'DiabetesPedigreeFunction', 'Age']\n",
    "\n",
    "# Define hyperparameter grid\n",
    "param_grid = {\n",
    "    'C': [0.01, 0.1, 1, 10, 50, 100],  # Regularization strength\n",
    "    'penalty': ['l1', 'l2'],  # L1 (Lasso) and L2 (Ridge)\n",
    "    'solver': ['liblinear']  # Required solver for L1/L2 regularization\n",
    "}\n",
    "\n",
    "for seed in seeds:\n",
    "    # Splitting the data\n",
    "    X_train, X_test, y_train, y_test = train_test_split(X, y, test_size=0.2, random_state=seed)\n",
    "\n",
    "    # Initialize and fit the scaler on X_train only\n",
    "    scaler = MinMaxScaler()\n",
    "    scaler.fit(X_train[columns_to_scale])\n",
    "\n",
    "    # Transform X_train and X_test using the fitted scaler\n",
    "    X_train_scaled = X_train.copy()  # Avoid modifying the original DataFrame\n",
    "    X_test_scaled = X_test.copy()\n",
    "\n",
    "    X_train_scaled[columns_to_scale] = scaler.transform(X_train[columns_to_scale])\n",
    "    X_test_scaled[columns_to_scale] = scaler.transform(X_test[columns_to_scale])\n",
    "\n",
    "    # Perform GridSearchCV to find the best hyperparameters\n",
    "    grid_search = GridSearchCV(LogisticRegression(random_state=seed), param_grid, cv=5, scoring='accuracy', verbose=1)\n",
    "    grid_search.fit(X_train_scaled, y_train)\n",
    "\n",
    "    # Get the best model from GridSearchCV\n",
    "    best_model = grid_search.best_estimator_\n",
    "\n",
    "    # Make predictions on the correctly normalized X_test\n",
    "    y_pred = best_model.predict(X_test_scaled)\n",
    "    current_accuracy = accuracy_score(y_test, y_pred)\n",
    "\n",
    "    # Store the best-performing model\n",
    "    if current_accuracy > Highest_Accuracy:\n",
    "        Best_Model = best_model\n",
    "        Highest_Accuracy = current_accuracy\n",
    "        Best_Seed = seed\n",
    "        Best_y_pred = y_pred\n",
    "        Best_y_test = y_test\n",
    "        Best_Params = grid_search.best_params_\n",
    "        Best_x_test = X_test.copy()\n",
    "        best_scaler = scaler\n",
    "\n",
    "# Print the best model accuracy and classification report\n",
    "print(f'Highest Accuracy was with seed {Best_Seed}\\nAccuracy Rate = {Highest_Accuracy}')\n",
    "print(f'Best Hyperparameters: {Best_Params}')\n",
    "print(classification_report(Best_y_test, Best_y_pred, target_names=['Non Diabetic', 'Diabetic']))"
   ]
  },
  {
   "cell_type": "markdown",
   "metadata": {
    "id": "D-tzmZcoCXFQ"
   },
   "source": [
    "✅ Conclusion: The model does well at identifying people who are not diabetic.\n"
   ]
  },
  {
   "cell_type": "markdown",
   "metadata": {
    "id": "GNBOcM0pCXFR"
   },
   "source": [
    "⚠️ Risk: The recall for diabetics is only 58%, meaning 42% of actual diabetic patients go undetected.\n",
    "\n"
   ]
  },
  {
   "cell_type": "code",
   "execution_count": 21,
   "metadata": {},
   "outputs": [
    {
     "name": "stdout",
     "output_type": "stream",
     "text": [
      "Accuracy Rate = 0.7817589576547231\n",
      "              precision    recall  f1-score   support\n",
      "\n",
      "Non Diabetic       0.78      0.92      0.85       403\n",
      "    Diabetic       0.78      0.51      0.62       211\n",
      "\n",
      "    accuracy                           0.78       614\n",
      "   macro avg       0.78      0.72      0.73       614\n",
      "weighted avg       0.78      0.78      0.77       614\n",
      "\n"
     ]
    }
   ],
   "source": [
    "#looking at the performance of the model with training data\n",
    "y_pred_train = Best_Model.predict(X_train_scaled)\n",
    "current_accuracy_train = accuracy_score(y_train, y_pred_train)\n",
    "print(f'Accuracy Rate = {current_accuracy_train}')\n",
    "print(classification_report(y_train, y_pred_train, target_names=['Non Diabetic', 'Diabetic']))"
   ]
  },
  {
   "cell_type": "code",
   "execution_count": 22,
   "metadata": {
    "colab": {
     "base_uri": "https://localhost:8080/",
     "height": 643
    },
    "executionInfo": {
     "elapsed": 360,
     "status": "ok",
     "timestamp": 1739177376518,
     "user": {
      "displayName": "Africa Bajils",
      "userId": "14940342808400923731"
     },
     "user_tz": -60
    },
    "id": "RMfYLJ8qGRcE",
    "outputId": "caa90c2f-f0b3-4a13-ba8d-2c16caf6c16e"
   },
   "outputs": [
    {
     "data": {
      "image/png": "[encoded data removed]",
      "text/plain": [
       "<Figure size 800x500 with 1 Axes>"
      ]
     },
     "metadata": {},
     "output_type": "display_data"
    },
    {
     "name": "stdout",
     "output_type": "stream",
     "text": [
      "                    Feature  Importance\n",
      "1                   Glucose    5.837115\n",
      "5                       BMI    3.077003\n",
      "0               Pregnancies    1.633095\n",
      "6  DiabetesPedigreeFunction    1.537925\n",
      "2             BloodPressure    1.073099\n",
      "4                   Insulin    0.471948\n",
      "7                       Age    0.453613\n",
      "3             SkinThickness    0.000000\n"
     ]
    }
   ],
   "source": [
    "feature_importance = np.abs(Best_Model.coef_[0])\n",
    "\n",
    "importance_df = pd.DataFrame({\"Feature\": X.columns, \"Importance\": feature_importance})\n",
    "importance_df = importance_df.sort_values(by=\"Importance\", ascending=False)\n",
    "\n",
    "plt.figure(figsize=(8, 5))\n",
    "plt.barh(importance_df[\"Feature\"], importance_df[\"Importance\"], color=\"lightblue\")\n",
    "plt.xlabel(\"Coefficient Magnitude (Importance)\")\n",
    "plt.ylabel(\"Feature\")\n",
    "plt.title(\"Feature Importance in Logistic Regression\")\n",
    "plt.gca().invert_yaxis()\n",
    "plt.show()\n",
    "\n",
    "\n",
    "print(importance_df)"
   ]
  },
  {
   "cell_type": "code",
   "execution_count": 23,
   "metadata": {
    "executionInfo": {
     "elapsed": 4,
     "status": "ok",
     "timestamp": 1739177376609,
     "user": {
      "displayName": "Africa Bajils",
      "userId": "14940342808400923731"
     },
     "user_tz": -60
    },
    "id": "33UHJ8_BGRcE"
   },
   "outputs": [],
   "source": [
    "# Save the model and save the scaler\n",
    "joblib.dump(Best_Model, 'LineraRegressionClassifier_v2.pkl')\n",
    "pickle.dump(scaler, open(\"scaler.pkl\", \"wb\"))"
   ]
  },
  {
   "cell_type": "code",
   "execution_count": 24,
   "metadata": {},
   "outputs": [
    {
     "name": "stdout",
     "output_type": "stream",
     "text": [
      "✅ X_test, y_test, and y_pred have been saved to 'model_test_results.xlsx'\n"
     ]
    }
   ],
   "source": [
    "\n",
    "X_test_df = pd.DataFrame(Best_x_test)\n",
    "y_test_df = pd.DataFrame(Best_y_test)\n",
    "y_pred_df = pd.DataFrame(Best_y_pred, columns=['Predicted_Outcome'])\n",
    "X_test_df.reset_index(inplace=True)\n",
    "y_test_df.reset_index(inplace=True)\n",
    "y_pred_df.reset_index(inplace=True)\n",
    "\n",
    "results_df = pd.concat([X_test_df, y_test_df, y_pred_df], axis=1)\n",
    "\n",
    "results_df.to_excel(\"model_test_results_raw.xlsx\", index=False)\n",
    "\n",
    "print(\"✅ X_test, y_test, and y_pred have been saved to 'model_test_results.xlsx'\")\n",
    "\n",
    "\n"
   ]
  },
  {
   "cell_type": "code",
   "execution_count": 25,
   "metadata": {
    "colab": {
     "base_uri": "https://localhost:8080/"
    },
    "executionInfo": {
     "elapsed": 90,
     "status": "ok",
     "timestamp": 1739177376702,
     "user": {
      "displayName": "Africa Bajils",
      "userId": "14940342808400923731"
     },
     "user_tz": -60
    },
    "id": "tdvzfvRFCXFS",
    "outputId": "58c21f3b-40d2-4936-a934-900acccd60c8"
   },
   "outputs": [
    {
     "name": "stdout",
     "output_type": "stream",
     "text": [
      "Highest Accuracy was with seed 1001\n",
      "Accuracy Rate = 0.8246753246753247\n",
      "              precision    recall  f1-score   support\n",
      "\n",
      "Non Diabetic       0.82      0.93      0.87       101\n",
      "    Diabetic       0.82      0.62      0.71        53\n",
      "\n",
      "    accuracy                           0.82       154\n",
      "   macro avg       0.82      0.78      0.79       154\n",
      "weighted avg       0.82      0.82      0.82       154\n",
      "\n"
     ]
    }
   ],
   "source": [
    "#Testing with StandarScale() to see if it will make any different\n",
    "Highest_Accuracy = 0\n",
    "Best_Seed = 0\n",
    "\n",
    "# List of seeds to explore\n",
    "seeds = [90, 95, 100, 242, 1500, 1001, 2023, 2000, 2003, 102, 2001, 2006]\n",
    "\n",
    "# Features to normalize\n",
    "columns_to_scale = ['Pregnancies','Glucose','BloodPressure','SkinThickness','Insulin','BMI','DiabetesPedigreeFunction','Age']\n",
    "\n",
    "for seed in seeds:\n",
    "    # Splitting the data\n",
    "    X_train, X_test, y_train, y_test = train_test_split(X, y, test_size=0.2, random_state=seed)\n",
    "\n",
    "    # Initialize and fit the scaler on X_train only\n",
    "    scaler = StandardScaler()\n",
    "    scaler.fit(X_train[columns_to_scale])\n",
    "\n",
    "    # Transform X_train and X_test using the fitted scaler\n",
    "    X_train_scaled = X_train  # Avoid modifying the original DataFrame\n",
    "    X_test_scaled = X_test\n",
    "\n",
    "    X_train_scaled[columns_to_scale] = scaler.transform(X_train[columns_to_scale])\n",
    "    X_test_scaled[columns_to_scale] = scaler.transform(X_test[columns_to_scale])\n",
    "\n",
    "    # Train the Logistic Regression model\n",
    "    LogisticRegressionmodel = LogisticRegression(random_state=seed)\n",
    "    LogisticRegressionmodel.fit(X_train_scaled, y_train)\n",
    "\n",
    "    # Make predictions on the correctly normalized X_test\n",
    "    y_pred = LogisticRegressionmodel.predict(X_test_scaled)\n",
    "    current_accuracy = accuracy_score(y_test, y_pred)\n",
    "\n",
    "    # Store the best-performing model\n",
    "    if current_accuracy > Highest_Accuracy:\n",
    "        Best_Model = LogisticRegression(random_state=seed)\n",
    "        #Best_Model.fit(X_train_scaled, y_train)  # Train it immediately inside the loop, if we want to train it inside the loop\n",
    "        Highest_Accuracy = current_accuracy\n",
    "        Best_Seed = seed\n",
    "        Best_y_pred = y_pred\n",
    "        Best_y_test = y_test\n",
    "\n",
    "# Print the best model accuracy and classification report\n",
    "print(f'Highest Accuracy was with seed {Best_Seed}\\nAccuracy Rate = {Highest_Accuracy}')\n",
    "print(classification_report(Best_y_test, Best_y_pred, target_names=['Non Diabetic', 'Diabetic']))\n"
   ]
  },
  {
   "cell_type": "code",
   "execution_count": 26,
   "metadata": {
    "colab": {
     "base_uri": "https://localhost:8080/"
    },
    "executionInfo": {
     "elapsed": 169,
     "status": "ok",
     "timestamp": 1739177861773,
     "user": {
      "displayName": "Africa Bajils",
      "userId": "14940342808400923731"
     },
     "user_tz": -60
    },
    "id": "XUMp0YmxCXFS",
    "outputId": "f4f9e710-6b95-4ed5-adfd-39cf248f1566"
   },
   "outputs": [
    {
     "name": "stdout",
     "output_type": "stream",
     "text": [
      "Highest Accuracy was with seed 242\n",
      "Accuracy Rate = 0.8138528138528138\n",
      "              precision    recall  f1-score   support\n",
      "\n",
      "Non Diabetic       0.83      0.93      0.88       167\n",
      "    Diabetic       0.73      0.52      0.61        64\n",
      "\n",
      "    accuracy                           0.81       231\n",
      "   macro avg       0.78      0.72      0.74       231\n",
      "weighted avg       0.81      0.81      0.80       231\n",
      "\n"
     ]
    }
   ],
   "source": [
    "#testing the model with 30% test size\n",
    "\n",
    "Highest_Accuracy = 0\n",
    "Best_Seed = 0\n",
    "\n",
    "# List of seeds to explore\n",
    "seeds = [90, 95, 100, 242, 1500, 1001, 2023, 2000, 2003, 102, 2001, 2006]\n",
    "\n",
    "# Features to normalize\n",
    "columns_to_scale = ['Pregnancies','Glucose','BloodPressure','SkinThickness','Insulin','BMI','DiabetesPedigreeFunction','Age']\n",
    "\n",
    "for seed in seeds:\n",
    "    # Splitting the data\n",
    "    X_train, X_test, y_train, y_test = train_test_split(X, y, test_size=0.3, random_state=seed)\n",
    "\n",
    "    # Initialize and fit the scaler on X_train only\n",
    "    scaler = MinMaxScaler()\n",
    "    scaler.fit(X_train[columns_to_scale])\n",
    "\n",
    "    # Transform X_train and X_test using the fitted scaler\n",
    "    X_train_scaled = X_train  # Avoid modifying the original DataFrame\n",
    "    X_test_scaled = X_test\n",
    "\n",
    "    X_train_scaled[columns_to_scale] = scaler.transform(X_train[columns_to_scale])\n",
    "    X_test_scaled[columns_to_scale] = scaler.transform(X_test[columns_to_scale])\n",
    "\n",
    "    # Train the Logistic Regression model\n",
    "    LogisticRegressionmodel = LogisticRegression(random_state=seed)\n",
    "    LogisticRegressionmodel.fit(X_train_scaled, y_train)\n",
    "\n",
    "    # Make predictions on the correctly normalized X_test\n",
    "    y_pred = LogisticRegressionmodel.predict(X_test_scaled)\n",
    "    current_accuracy = accuracy_score(y_test, y_pred)\n",
    "\n",
    "    # Store the best-performing model\n",
    "    if current_accuracy > Highest_Accuracy:\n",
    "        Best_Model = LogisticRegression(random_state=seed)\n",
    "        #Best_Model.fit(X_train_scaled, y_train)  # Train it immediately inside the loop, if we want to train it inside the loop\n",
    "        Highest_Accuracy = current_accuracy\n",
    "        Best_Seed = seed\n",
    "        Best_y_pred = y_pred\n",
    "        Best_y_test = y_test\n",
    "\n",
    "# Print the best model accuracy and classification report\n",
    "print(f'Highest Accuracy was with seed {Best_Seed}\\nAccuracy Rate = {Highest_Accuracy}')\n",
    "print(classification_report(Best_y_test, Best_y_pred, target_names=['Non Diabetic', 'Diabetic']))\n"
   ]
  }
 ],
 "metadata": {
  "colab": {
   "provenance": []
  },
  "kernelspec": {
   "display_name": "base",
   "language": "python",
   "name": "python3"
  },
  "language_info": {
   "codemirror_mode": {
    "name": "ipython",
    "version": 3
   },
   "file_extension": ".py",
   "mimetype": "text/x-python",
   "name": "python",
   "nbconvert_exporter": "python",
   "pygments_lexer": "ipython3",
   "version": "3.12.4"
  }
 },
 "nbformat": 4,
 "nbformat_minor": 0
}
